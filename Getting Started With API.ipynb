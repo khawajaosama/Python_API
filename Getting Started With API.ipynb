{
 "cells": [
  {
   "cell_type": "code",
   "execution_count": 38,
   "metadata": {},
   "outputs": [],
   "source": [
    "import requests\n",
    "import os"
   ]
  },
  {
   "cell_type": "code",
   "execution_count": 39,
   "metadata": {},
   "outputs": [],
   "source": [
    "base_url = 'http://api.open-notify.org/iss-now.json'"
   ]
  },
  {
   "cell_type": "code",
   "execution_count": 40,
   "metadata": {},
   "outputs": [
    {
     "name": "stdout",
     "output_type": "stream",
     "text": [
      "200\n"
     ]
    }
   ],
   "source": [
    "# Make a get request to get the latest position of the international space station from the opennotify api.\n",
    "response = requests.get(base_url)\n",
    "\n",
    "# Print the status code of the response.\n",
    "print(response.status_code)"
   ]
  },
  {
   "cell_type": "markdown",
   "metadata": {},
   "source": [
    "#### Status codes indicate information about what happened with a request. Here are some codes that are relevant to GET requests:\n",
    "\n",
    "#### 200 -- everything went okay, and the result has been returned (if any)\n",
    "####  301 -- the server is redirecting you to a different endpoint. This can happen when a company switches domain names, or an endpoint name is changed.\n",
    "#### 401 -- the server thinks you're not authenticated. This happens when you don't send the right credentials to access an API (we'll talk about authentication in a later post).\n",
    "#### 400 -- the server thinks you made a bad request. This can happen when you don't send along the right data, among other things.\n",
    "#### 403 -- the resource you're trying to access is forbidden -- you don't have the right permissions to see it.\n",
    "#### 404 -- the resource you tried to access wasn't found on the server."
   ]
  },
  {
   "cell_type": "markdown",
   "metadata": {},
   "source": [
    "## We'll now make a GET request to http://api.open-notify.org/iss-pass, an endpoint that doesn't exist, per the API documentation.\n",
    "\n"
   ]
  },
  {
   "cell_type": "code",
   "execution_count": 41,
   "metadata": {},
   "outputs": [
    {
     "name": "stdout",
     "output_type": "stream",
     "text": [
      "404\n"
     ]
    }
   ],
   "source": [
    "response = requests.get(\"http://api.open-notify.org/iss-pass\")\n",
    "print(response.status_code)"
   ]
  },
  {
   "cell_type": "markdown",
   "metadata": {},
   "source": [
    "## We'll now make a GET request to http://api.open-notify.org/iss-pass.json."
   ]
  },
  {
   "cell_type": "code",
   "execution_count": 42,
   "metadata": {},
   "outputs": [
    {
     "name": "stdout",
     "output_type": "stream",
     "text": [
      "400\n"
     ]
    }
   ],
   "source": [
    "response = requests.get('http://api.open-notify.org/iss-pass.json')\n",
    "print(response.status_code)"
   ]
  },
  {
   "cell_type": "markdown",
   "metadata": {},
   "source": [
    "## Hitting the right endpoint:"
   ]
  },
  {
   "cell_type": "markdown",
   "metadata": {},
   "source": [
    "#### We'll now make a GET request to http://api.open-notify.org/iss-pass.json."
   ]
  },
  {
   "cell_type": "code",
   "execution_count": 43,
   "metadata": {},
   "outputs": [
    {
     "name": "stdout",
     "output_type": "stream",
     "text": [
      "400\n"
     ]
    }
   ],
   "source": [
    "response = requests.get(\"http://api.open-notify.org/iss-pass.json\")\n",
    "print(response.status_code)"
   ]
  },
  {
   "cell_type": "markdown",
   "metadata": {},
   "source": [
    "## Query parameters: "
   ]
  },
  {
   "cell_type": "markdown",
   "metadata": {},
   "source": [
    "You'll see that in the last example, we got a 400 status code, which indicates a bad request. If you look at the documentation for the OpenNotify API, we see that the ISS Pass endpoint requires two parameters.We can do this by adding an optional keyword argument, \"params\", to our request. In this case, there are two parameters we need to pass:\n",
    "\n",
    "- lat -- The latitude of the location we want.\n",
    "- lon -- The longitude of the location we want."
   ]
  },
  {
   "cell_type": "code",
   "execution_count": 60,
   "metadata": {},
   "outputs": [
    {
     "name": "stdout",
     "output_type": "stream",
     "text": [
      "b'{\"message\": \"success\", \"timestamp\": 1549103835, \"iss_position\": {\"longitude\": \"22.2504\", \"latitude\": \"3.2124\"}}'\n",
      "b'{\"message\": \"success\", \"timestamp\": 1549103835, \"iss_position\": {\"longitude\": \"22.2685\", \"latitude\": \"3.2378\"}}'\n"
     ]
    }
   ],
   "source": [
    "parameters = {'lat':40.71,'lon':-74}\n",
    "\n",
    "response = requests.get(base_url,params=parameters)\n",
    "\n",
    "print(response.content)\n",
    "\n",
    "# This will get the same response \n",
    "\n",
    "response = requests.get(base_url+'? lat=40.71&lon=-74')\n",
    "\n",
    "print(response.content)"
   ]
  },
  {
   "cell_type": "markdown",
   "metadata": {},
   "source": [
    "You may have noticed that the content of the response earlier was a string (although it was shown as a bytes object, we can easily convert the content to a string using response.content.decode(\"utf-8\"))."
   ]
  },
  {
   "cell_type": "code",
   "execution_count": 62,
   "metadata": {},
   "outputs": [
    {
     "data": {
      "text/plain": [
       "'{\"message\": \"success\", \"timestamp\": 1549103835, \"iss_position\": {\"longitude\": \"22.2685\", \"latitude\": \"3.2378\"}}'"
      ]
     },
     "execution_count": 62,
     "metadata": {},
     "output_type": "execute_result"
    }
   ],
   "source": [
    "response.content.decode('utf-8')"
   ]
  },
  {
   "cell_type": "code",
   "execution_count": 72,
   "metadata": {},
   "outputs": [
    {
     "data": {
      "text/plain": [
       "{'latitude': '3.2378', 'longitude': '22.2685'}"
      ]
     },
     "execution_count": 72,
     "metadata": {},
     "output_type": "execute_result"
    }
   ],
   "source": [
    "response.json()['iss_position']"
   ]
  },
  {
   "cell_type": "markdown",
   "metadata": {},
   "source": [
    "Strings are the way that we pass information back and forth to APIs, but it's hard to get the information we want out of them. How do we know how to decode the string that we get back and work with it in Python? How do we figure out the altitude of the ISS from the string response?\n",
    "\n",
    "Luckily, there's a format called JavaScript Object Notation (JSON). JSON is a way to encode data structures like lists and dictionaries to strings that ensures that they are easily readable by machines. JSON is the primary format in which data is passed back and forth to APIs, and most API servers will send their responses in JSON format.\n",
    "\n"
   ]
  },
  {
   "cell_type": "markdown",
   "metadata": {},
   "source": [
    "Python has great JSON support, with the json package. \n",
    "The json library has two main methods:\n",
    "\n",
    "- dumps -- Takes in a Python object, and converts it to a string.\n",
    "- loads -- Takes a JSON string, and converts it to a Python object.\n"
   ]
  },
  {
   "cell_type": "code",
   "execution_count": 84,
   "metadata": {},
   "outputs": [
    {
     "name": "stdout",
     "output_type": "stream",
     "text": [
      "<class 'list'>\n",
      "<class 'str'>\n",
      "[\"Taco Bell\", \"Shake Shack\", \"Chipotle\"]\n",
      "<class 'list'>\n",
      "<class 'str'>\n",
      "{\"Pizza Hut\": 7600, \"McDonalds\": 14098, \"Starbucks\": 10821, \"Subway\": 24722}\n"
     ]
    }
   ],
   "source": [
    "\n",
    "# Make a list of fast food chains.\n",
    "best_food_chains = [\"Taco Bell\", \"Shake Shack\", \"Chipotle\"]\n",
    "\n",
    "# This is a list.\n",
    "print(type(best_food_chains)) \n",
    "\n",
    "# Import the json library\n",
    "import json\n",
    "\n",
    "# Use json.dumps to convert best_food_chains to a string.\n",
    "best_food_chains_string = json.dumps(best_food_chains)\n",
    "\n",
    "# We've successfully converted our list to a string.\n",
    "print(type(best_food_chains_string))\n",
    "\n",
    "print(best_food_chains_string)\n",
    "\n",
    "# Convert best_food_chains_string back into a list\n",
    "print(type(json.loads(best_food_chains_string)))\n",
    "\n",
    "# Make a dictionary\n",
    "fast_food_franchise = {\n",
    "    \"Subway\": 24722,\n",
    "    \"McDonalds\": 14098,\n",
    "    \"Starbucks\": 10821,\n",
    "    \"Pizza Hut\": 7600\n",
    "}\n",
    "\n",
    "# We can also dump a dictionary to a string and load it.\n",
    "fast_food_franchise_string = json.dumps(fast_food_franchise)\n",
    "\n",
    "print(type(fast_food_franchise_string))\n",
    "\n",
    "print(fast_food_franchise_string)"
   ]
  },
  {
   "cell_type": "markdown",
   "metadata": {},
   "source": [
    "## Getting JSON from an API request:"
   ]
  },
  {
   "cell_type": "code",
   "execution_count": 90,
   "metadata": {},
   "outputs": [
    {
     "name": "stdout",
     "output_type": "stream",
     "text": [
      "<class 'dict'> \n",
      "\n",
      "{'response': [{'risetime': 1549143064, 'duration': 605}, {'risetime': 1549148842, 'duration': 622}, {'risetime': 1549154741, 'duration': 510}, {'risetime': 1549160624, 'duration': 490}, {'risetime': 1549166421, 'duration': 603}], 'message': 'success', 'request': {'altitude': 100, 'passes': 5, 'datetime': 1549105389, 'latitude': 37.78, 'longitude': -122.41}}\n"
     ]
    }
   ],
   "source": [
    "# Make the same request we did earlier, but with the coordinates of San Francisco instead.\n",
    "parameters = {\"lat\": 37.78, \"lon\": -122.41}\n",
    "response = requests.get(\"http://api.open-notify.org/iss-pass.json\", params=parameters)\n",
    "\n",
    "# Get the response data as a python object.  Verify that it's a dictionary.\n",
    "\n",
    "data = response.json() # json converts the resposne data as python object\n",
    "\n",
    "print(type(data),'\\n')\n",
    "\n",
    "print(data)"
   ]
  },
  {
   "cell_type": "markdown",
   "metadata": {},
   "source": [
    "## Content Type: "
   ]
  },
  {
   "cell_type": "markdown",
   "metadata": {},
   "source": [
    "The server doesn't just send a status code and the data when it generates a response. It also sends metadata containing information on how the data was generated and how to decode it. This is stored in the response headers. In Python, we can access this with the headers property of a response object."
   ]
  },
  {
   "cell_type": "code",
   "execution_count": 101,
   "metadata": {},
   "outputs": [
    {
     "name": "stdout",
     "output_type": "stream",
     "text": [
      "{'Content-Length': '521', 'Via': '1.1 vegur', 'Connection': 'keep-alive', 'Content-Type': 'application/json', 'Date': 'Sat, 02 Feb 2019 11:04:35 GMT', 'Server': 'nginx/1.10.3'} \n",
      "\n",
      "application/json\n"
     ]
    }
   ],
   "source": [
    "# Headers is a dictionary\n",
    "print(response.headers,'\\n')\n",
    "\n",
    "# Get the content-type from the dictionary.\n",
    "print(response.headers[\"content-type\"])"
   ]
  },
  {
   "cell_type": "markdown",
   "metadata": {},
   "source": [
    "## Finding the number of people in space:"
   ]
  },
  {
   "cell_type": "code",
   "execution_count": 103,
   "metadata": {},
   "outputs": [
    {
     "name": "stdout",
     "output_type": "stream",
     "text": [
      "3\n",
      "{'people': [{'craft': 'ISS', 'name': 'Oleg Kononenko'}, {'craft': 'ISS', 'name': 'David Saint-Jacques'}, {'craft': 'ISS', 'name': 'Anne McClain'}], 'message': 'success', 'number': 3}\n"
     ]
    }
   ],
   "source": [
    "# Get the response from the API endpoint.\n",
    "\n",
    "response = requests.get(\"http://api.open-notify.org/astros.json\")\n",
    "\n",
    "data = response.json()\n",
    "\n",
    "# finding people are currently in space.\n",
    "print(data[\"number\"])\n",
    "\n",
    "print(data)"
   ]
  },
  {
   "cell_type": "code",
   "execution_count": null,
   "metadata": {},
   "outputs": [],
   "source": []
  }
 ],
 "metadata": {
  "kernelspec": {
   "display_name": "Python 3",
   "language": "python",
   "name": "python3"
  },
  "language_info": {
   "codemirror_mode": {
    "name": "ipython",
    "version": 3
   },
   "file_extension": ".py",
   "mimetype": "text/x-python",
   "name": "python",
   "nbconvert_exporter": "python",
   "pygments_lexer": "ipython3",
   "version": "3.5.2"
  }
 },
 "nbformat": 4,
 "nbformat_minor": 2
}
